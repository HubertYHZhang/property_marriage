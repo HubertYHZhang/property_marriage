{
 "cells": [
  {
   "cell_type": "code",
   "execution_count": 2,
   "metadata": {},
   "outputs": [],
   "source": [
    "import matplotlib.pyplot as plt\n",
    "from matplotlib.sankey import Sankey\n",
    "import numpy as np\n",
    "import pandas as pd\n",
    "import plotly.graph_objects as go"
   ]
  },
  {
   "cell_type": "code",
   "execution_count": 5,
   "metadata": {},
   "outputs": [
    {
     "name": "stderr",
     "output_type": "stream",
     "text": [
      "/var/folders/nc/fq1fpth513jgq0tl1k0gs3c00000gn/T/ipykernel_73113/3780663437.py:2: DtypeWarning: Columns (16,30,39,44,45,60,61,62,63,99) have mixed types. Specify dtype option on import or set low_memory=False.\n",
      "  df = pd.read_csv(wd+\"/data/ind&econ.csv\")\n"
     ]
    }
   ],
   "source": [
    "wd = \"/Users/hubertcheung/Documents/GitHub/property_marriage\"\n",
    "df = pd.read_csv(wd+\"/data/ind&econ.csv\")\n",
    "\n",
    "df1 = df.loc[df['marry'] == 1, ['pid','year','owntype','marry_y']]"
   ]
  },
  {
   "cell_type": "code",
   "execution_count": null,
   "metadata": {},
   "outputs": [],
   "source": [
    "pid2010 = df1[df1['year'] == 2010]['pid'].tolist()\n",
    "pid2012 = df1[df1['year'] == 2012]['pid'].tolist()\n",
    "pid2014 = df1[df1['year'] == 2014]['pid'].tolist()\n",
    "pid2016 = df1[df1['year'] == 2016]['pid'].tolist()\n",
    "pid2018 = df1[df1['year'] == 2018]['pid'].tolist()\n",
    "\n",
    "pidcommon = list(set(pid2010) & set(pid2012) & set(pid2014) & set(pid2016) & set(pid2018))\n",
    "\n",
    "df_refined = df1[df1['pid'].isin(pidcommon)]\n",
    "df_refined['year'].value_counts()\n",
    "df_wide = df_refined.pivot(index='pid', columns='year', values='owntype')\n",
    "df_wide.reset_index(inplace=True)\n",
    "df_wide = df_wide.fillna(\"\")"
   ]
  },
  {
   "cell_type": "code",
   "execution_count": null,
   "metadata": {},
   "outputs": [],
   "source": [
    "df_wide.to_stata(wd+\"/data/sankey.dta\")"
   ]
  },
  {
   "cell_type": "code",
   "execution_count": null,
   "metadata": {},
   "outputs": [],
   "source": [
    "sources_s = pd.concat([df_wide[2010], df_wide[2012], df_wide[2014], df_wide[2016]])\n",
    "targets_s = pd.concat([df_wide[2012], df_wide[2014], df_wide[2016], df_wide[2018]])\n",
    "pids = pd.concat([df_wide['pid'], df_wide['pid'], df_wide['pid'], df_wide['pid']])\n",
    "year = df_refined.loc[df_refined['year']<=2016,['year']]\n",
    "\n",
    "df_new = pd.DataFrame({'source': sources_s, 'target': targets_s, 'pid': pids})\n",
    "df_new = df_new.reset_index()\n",
    "year = year['year'].reset_index()\n",
    "df_new = pd.concat([df_new, year['year']], axis=1)"
   ]
  },
  {
   "cell_type": "code",
   "execution_count": null,
   "metadata": {},
   "outputs": [],
   "source": [
    "color_link_all = ['#FFFF00', '#1CE6FF', '#FF34FF', '#FF4A46',\n",
    "             '#008941', '#006FA6', '#A30059','#FFDBE5', '#7A4900', \n",
    "             '#0000A6', '#63FFAC', '#B79762', '#004D43', '#8FB0FF',\n",
    "             '#997D87', '#5A0007', '#809693', '#FEFFE6', '#1B4400', \n",
    "             '#4FC601', '#3B5DFF', '#4A3B53', '#FF2F80', '#61615A',\n",
    "             '#BA0900', '#6B7900', '#00C2A0', '#FFAA92', '#FF90C9',\n",
    "             '#B903AA', '#D16100', '#DDEFFF', '#000035', '#7B4F4B',                \n",
    "             '#A1C299', '#300018', '#0AA6D8', '#013349', '#00846F',\n",
    "             '#372101', '#FFB500', '#C2FFED', '#A079BF', '#CC0744',\n",
    "             '#C0B9B2', '#C2FF99', '#001E09', '#00489C', '#6F0062', \n",
    "             '#0CBD66', '#EEC3FF', '#456D75', '#B77B68', '#7A87A1',\n",
    "             '#788D66', '#885578', '#FAD09F', '#FF8A9A', '#D157A0',\n",
    "             '#BEC459', '#456648', '#0086ED', '#886F4C', '#34362D', \n",
    "             '#B4A8BD', '#00A6AA', '#452C2C', '#636375', '#A3C8C9', \n",
    "             '#FF913F', '#938A81', '#575329', '#00FECF', '#B05B6F',\n",
    "             '#8CD0FF', '#3B9700', '#04F757', '#C8A1A1', '#1E6E00',\n",
    "             '#7900D7', '#A77500', '#6367A9', '#A05837', '#6B002C',\n",
    "             '#772600', '#D790FF', '#9B9700', '#549E79', '#FFF69F', \n",
    "             '#201625', '#72418F', '#BC23FF', '#99ADC0', '#3A2465',\n",
    "             '#922329', '#5B4534', '#FDE8DC', '#404E55', '#0089A3',\n",
    "             '#CB7E98', '#A4E804', '#324E72', '#6A3A4C'\n",
    "             ]\n",
    "color_link = color_link_all[0:16]*4"
   ]
  },
  {
   "cell_type": "code",
   "execution_count": null,
   "metadata": {},
   "outputs": [],
   "source": [
    "nodes_origin = [\"self\",\"spouse\",\"co\",\"other\"]\n",
    "years = [\"2010\",\"2012\",\"2014\",\"2016\",\"2018\"]\n",
    "\n",
    "nodes = [j+i for i in years for j in nodes_origin]"
   ]
  },
  {
   "cell_type": "code",
   "execution_count": null,
   "metadata": {},
   "outputs": [],
   "source": []
  },
  {
   "cell_type": "code",
   "execution_count": 8,
   "metadata": {},
   "outputs": [],
   "source": [
    "housingprice = pd.read_excel(wd+\"/房价.xls\")\n",
    "priceindex = pd.read_excel(wd+\"/消费价格指数.xls\")\n",
    "\n",
    "housingprice_def = housingprice\n",
    "for year in range(2009,2019):\n",
    "    housingprice_def[str(year)+\"年\"] = housingprice[str(year)+\"年\"] / (priceindex[str(year)+\"年\"]/100)\n",
    "\n",
    "co = {}\n",
    "for year in range(2008,2019):\n",
    "    co[str(year)+\"年\"] = \"hp\"+str(year)\n",
    "\n",
    "housingprice_def = housingprice_def.rename(columns=co)\n",
    "\n",
    "housingprice_def.to_csv(wd+\"/data/housingprice.csv\")"
   ]
  }
 ],
 "metadata": {
  "kernelspec": {
   "display_name": "base",
   "language": "python",
   "name": "python3"
  },
  "language_info": {
   "codemirror_mode": {
    "name": "ipython",
    "version": 3
   },
   "file_extension": ".py",
   "mimetype": "text/x-python",
   "name": "python",
   "nbconvert_exporter": "python",
   "pygments_lexer": "ipython3",
   "version": "3.10.9"
  }
 },
 "nbformat": 4,
 "nbformat_minor": 2
}
